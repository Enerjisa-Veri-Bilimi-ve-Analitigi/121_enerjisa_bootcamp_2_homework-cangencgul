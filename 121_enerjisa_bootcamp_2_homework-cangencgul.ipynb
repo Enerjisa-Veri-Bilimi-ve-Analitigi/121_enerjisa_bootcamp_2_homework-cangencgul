{
 "cells": [
  {
   "cell_type": "code",
   "execution_count": 1,
   "metadata": {},
   "outputs": [],
   "source": [
    "#importing required libraries\n",
    "import random\n",
    "import pandas as pd\n",
    "import numpy as np\n",
    "import seaborn as sns\n",
    "import matplotlib.pyplot as plt\n",
    "\n",
    "#machine learning libraries\n",
    "from sklearn.model_selection import train_test_split\n",
    "from sklearn.preprocessing import LabelEncoder\n",
    "from sklearn.metrics import confusion_matrix\n",
    "from sklearn.metrics import classification_report\n",
    "from sklearn import tree\n",
    "from sklearn import datasets\n",
    "from sklearn.decomposition import PCA\n",
    "from sklearn.preprocessing import StandardScaler\n",
    "from sklearn.preprocessing import Normalizer\n",
    "from sklearn.preprocessing import OneHotEncoder\n",
    "\n",
    "#models\n",
    "from sklearn.ensemble import RandomForestClassifier\n",
    "from sklearn.model_selection import RandomizedSearchCV\n",
    "\n",
    "from imblearn.over_sampling import SMOTE"
   ]
  },
  {
   "cell_type": "code",
   "execution_count": 2,
   "metadata": {},
   "outputs": [],
   "source": [
    "#initializing the random number generator\n",
    "random.seed(41)"
   ]
  },
  {
   "cell_type": "markdown",
   "metadata": {},
   "source": [
    "<h3 style=\"color:#AF30F0;\" >1) One hot encoding modelin görmediği veriye nasıl uygulanır?</h3>"
   ]
  },
  {
   "cell_type": "markdown",
   "metadata": {},
   "source": [
    "one hot encoding işlemi uygulandığında eğitim veri seti ile test veri setinin sütun sayısı birbirine eşit olmayabilir. Bunun başlıca sebebi eğitim verisinin test verisine kıyasla çok daha fazla satır içermesinden kaynaklanmaktır. Bu sebeple çoğunlukla test veri setine OHE uygulandığında eğitim setine kıyas ile daha az sütun oluşur. Test veri seti her ne kadar daha az veri içerse de bazı durumlarda eğitim veri setinin daha önce karşılaşmadığı değerlere de sahip olabilir. Her iki durumda OHE işlemi sonucunda birbirinden farklı sayıda sütun içeren eğitim ve test veri setleri oluşmasına sebep olmaktadır. \n",
    "\n",
    "Böyle bir durumun önüne geçmek için eğitim veri seti ile test verisinin sütunları karşılaştırılarak test verisinin sahip olmadığı sütunlar test verisine eklebilir ve eğitim verisinin sahip olmadığı sütunlarda eğitim verisine eklebilir.\n",
    "\n",
    "Tüm bu işlemler sonucunda bir model eğitildiğinde modele yeniden modelin daha önce hiç karşılaşmadığı değerler gelebilir. Bu değeri eğitim veri setine eklemek ve modeli yeniden eğitmek uzun çoğu zaman zahmetli bir iş olacağı gibi modele sokulan yeni değeri sonucu bilinmiyorsa sonucu bilinmeyen bir veri ile modeli eğitmek de mantıklı olmayacaktır. \n",
    "\n",
    "<h4 style=\"color:#FF30A0;\">Çözüm önerileri </h4>\n",
    "<ol>\n",
    "  <li>eğitim setinde olmasa dahi test ve validation veri setleri içinde olması beklenen veriler daha öncesinden modele tanıtılabilir</li>\n",
    "  <ul>\n",
    "      <li>örneğin OHE uygulanacak sütun türkiyedeki şehir isimlerini tutuyorsa ve eğitim veri setinde sadece 30 il var ise geri kalan 51 il için boş sütunlar oluşturulabilir. Oluşacak bütün sütunlar eğitim veri setinde olmadığı için diğer başlığı altında toplanabilir</li>\n",
    "  </ul>\n",
    "  <br>\n",
    "  <li>gelebilecek olası durumları daha önceden bilmek mümkün değil ise beklenmeyen başlıklı bir sütun oluşturulabilir</li>\n",
    "</ol>\n"
   ]
  },
  {
   "cell_type": "code",
   "execution_count": 3,
   "metadata": {},
   "outputs": [],
   "source": [
    "#Generating reference list to create dataframe\n",
    "colors = ['red', 'green', 'blue', 'yellow', 'pink', 'black', 'white', None]\n",
    "results = [0, 1]\n",
    "\n",
    "#random data\n",
    "data_amount = 20\n",
    "data = {\n",
    "        'color': [random.choice(colors) for _ in range(data_amount)], \n",
    "        'result': [random.choice(results) for _ in range(data_amount)]\n",
    "       }"
   ]
  },
  {
   "cell_type": "code",
   "execution_count": 4,
   "metadata": {},
   "outputs": [],
   "source": [
    "#creating data frame\n",
    "df =pd.DataFrame(data)"
   ]
  },
  {
   "cell_type": "code",
   "execution_count": 5,
   "metadata": {},
   "outputs": [],
   "source": [
    "#selecting features and target\n",
    "\n",
    "X = df.iloc[:, :-1]\n",
    "y = df.iloc[:, -1]"
   ]
  },
  {
   "cell_type": "code",
   "execution_count": 6,
   "metadata": {},
   "outputs": [],
   "source": [
    "#split data as train and test\n",
    "X_train, X_test, y_train, y_test = train_test_split(X, y, test_size = 0.2, random_state = 42)"
   ]
  },
  {
   "cell_type": "code",
   "execution_count": 7,
   "metadata": {},
   "outputs": [
    {
     "data": {
      "text/html": [
       "<div>\n",
       "<style scoped>\n",
       "    .dataframe tbody tr th:only-of-type {\n",
       "        vertical-align: middle;\n",
       "    }\n",
       "\n",
       "    .dataframe tbody tr th {\n",
       "        vertical-align: top;\n",
       "    }\n",
       "\n",
       "    .dataframe thead th {\n",
       "        text-align: right;\n",
       "    }\n",
       "</style>\n",
       "<table border=\"1\" class=\"dataframe\">\n",
       "  <thead>\n",
       "    <tr style=\"text-align: right;\">\n",
       "      <th></th>\n",
       "      <th>color_black</th>\n",
       "      <th>color_blue</th>\n",
       "      <th>color_green</th>\n",
       "      <th>color_pink</th>\n",
       "      <th>color_red</th>\n",
       "      <th>color_white</th>\n",
       "      <th>color_yellow</th>\n",
       "    </tr>\n",
       "  </thead>\n",
       "  <tbody>\n",
       "    <tr>\n",
       "      <th>8</th>\n",
       "      <td>0</td>\n",
       "      <td>0</td>\n",
       "      <td>0</td>\n",
       "      <td>0</td>\n",
       "      <td>1</td>\n",
       "      <td>0</td>\n",
       "      <td>0</td>\n",
       "    </tr>\n",
       "    <tr>\n",
       "      <th>5</th>\n",
       "      <td>0</td>\n",
       "      <td>0</td>\n",
       "      <td>0</td>\n",
       "      <td>1</td>\n",
       "      <td>0</td>\n",
       "      <td>0</td>\n",
       "      <td>0</td>\n",
       "    </tr>\n",
       "    <tr>\n",
       "      <th>11</th>\n",
       "      <td>0</td>\n",
       "      <td>0</td>\n",
       "      <td>0</td>\n",
       "      <td>0</td>\n",
       "      <td>0</td>\n",
       "      <td>0</td>\n",
       "      <td>0</td>\n",
       "    </tr>\n",
       "    <tr>\n",
       "      <th>3</th>\n",
       "      <td>0</td>\n",
       "      <td>1</td>\n",
       "      <td>0</td>\n",
       "      <td>0</td>\n",
       "      <td>0</td>\n",
       "      <td>0</td>\n",
       "      <td>0</td>\n",
       "    </tr>\n",
       "    <tr>\n",
       "      <th>18</th>\n",
       "      <td>0</td>\n",
       "      <td>0</td>\n",
       "      <td>1</td>\n",
       "      <td>0</td>\n",
       "      <td>0</td>\n",
       "      <td>0</td>\n",
       "      <td>0</td>\n",
       "    </tr>\n",
       "    <tr>\n",
       "      <th>16</th>\n",
       "      <td>0</td>\n",
       "      <td>0</td>\n",
       "      <td>0</td>\n",
       "      <td>1</td>\n",
       "      <td>0</td>\n",
       "      <td>0</td>\n",
       "      <td>0</td>\n",
       "    </tr>\n",
       "    <tr>\n",
       "      <th>13</th>\n",
       "      <td>0</td>\n",
       "      <td>1</td>\n",
       "      <td>0</td>\n",
       "      <td>0</td>\n",
       "      <td>0</td>\n",
       "      <td>0</td>\n",
       "      <td>0</td>\n",
       "    </tr>\n",
       "    <tr>\n",
       "      <th>2</th>\n",
       "      <td>0</td>\n",
       "      <td>0</td>\n",
       "      <td>0</td>\n",
       "      <td>0</td>\n",
       "      <td>0</td>\n",
       "      <td>0</td>\n",
       "      <td>1</td>\n",
       "    </tr>\n",
       "    <tr>\n",
       "      <th>9</th>\n",
       "      <td>0</td>\n",
       "      <td>0</td>\n",
       "      <td>0</td>\n",
       "      <td>0</td>\n",
       "      <td>0</td>\n",
       "      <td>0</td>\n",
       "      <td>1</td>\n",
       "    </tr>\n",
       "    <tr>\n",
       "      <th>19</th>\n",
       "      <td>0</td>\n",
       "      <td>0</td>\n",
       "      <td>0</td>\n",
       "      <td>0</td>\n",
       "      <td>1</td>\n",
       "      <td>0</td>\n",
       "      <td>0</td>\n",
       "    </tr>\n",
       "    <tr>\n",
       "      <th>4</th>\n",
       "      <td>0</td>\n",
       "      <td>0</td>\n",
       "      <td>0</td>\n",
       "      <td>0</td>\n",
       "      <td>0</td>\n",
       "      <td>1</td>\n",
       "      <td>0</td>\n",
       "    </tr>\n",
       "    <tr>\n",
       "      <th>12</th>\n",
       "      <td>0</td>\n",
       "      <td>1</td>\n",
       "      <td>0</td>\n",
       "      <td>0</td>\n",
       "      <td>0</td>\n",
       "      <td>0</td>\n",
       "      <td>0</td>\n",
       "    </tr>\n",
       "    <tr>\n",
       "      <th>7</th>\n",
       "      <td>0</td>\n",
       "      <td>0</td>\n",
       "      <td>0</td>\n",
       "      <td>0</td>\n",
       "      <td>0</td>\n",
       "      <td>1</td>\n",
       "      <td>0</td>\n",
       "    </tr>\n",
       "    <tr>\n",
       "      <th>10</th>\n",
       "      <td>0</td>\n",
       "      <td>0</td>\n",
       "      <td>0</td>\n",
       "      <td>0</td>\n",
       "      <td>1</td>\n",
       "      <td>0</td>\n",
       "      <td>0</td>\n",
       "    </tr>\n",
       "    <tr>\n",
       "      <th>14</th>\n",
       "      <td>1</td>\n",
       "      <td>0</td>\n",
       "      <td>0</td>\n",
       "      <td>0</td>\n",
       "      <td>0</td>\n",
       "      <td>0</td>\n",
       "      <td>0</td>\n",
       "    </tr>\n",
       "    <tr>\n",
       "      <th>6</th>\n",
       "      <td>0</td>\n",
       "      <td>0</td>\n",
       "      <td>0</td>\n",
       "      <td>1</td>\n",
       "      <td>0</td>\n",
       "      <td>0</td>\n",
       "      <td>0</td>\n",
       "    </tr>\n",
       "  </tbody>\n",
       "</table>\n",
       "</div>"
      ],
      "text/plain": [
       "    color_black  color_blue  color_green  color_pink  color_red  color_white  \\\n",
       "8             0           0            0           0          1            0   \n",
       "5             0           0            0           1          0            0   \n",
       "11            0           0            0           0          0            0   \n",
       "3             0           1            0           0          0            0   \n",
       "18            0           0            1           0          0            0   \n",
       "16            0           0            0           1          0            0   \n",
       "13            0           1            0           0          0            0   \n",
       "2             0           0            0           0          0            0   \n",
       "9             0           0            0           0          0            0   \n",
       "19            0           0            0           0          1            0   \n",
       "4             0           0            0           0          0            1   \n",
       "12            0           1            0           0          0            0   \n",
       "7             0           0            0           0          0            1   \n",
       "10            0           0            0           0          1            0   \n",
       "14            1           0            0           0          0            0   \n",
       "6             0           0            0           1          0            0   \n",
       "\n",
       "    color_yellow  \n",
       "8              0  \n",
       "5              0  \n",
       "11             0  \n",
       "3              0  \n",
       "18             0  \n",
       "16             0  \n",
       "13             0  \n",
       "2              1  \n",
       "9              1  \n",
       "19             0  \n",
       "4              0  \n",
       "12             0  \n",
       "7              0  \n",
       "10             0  \n",
       "14             0  \n",
       "6              0  "
      ]
     },
     "execution_count": 7,
     "metadata": {},
     "output_type": "execute_result"
    }
   ],
   "source": [
    "#apply OHE to train data\n",
    "pd.get_dummies(X_train)"
   ]
  },
  {
   "cell_type": "markdown",
   "metadata": {},
   "source": [
    "<p style=\"color:#FF30A0; font-size:16px; font-style: oblique;\">Olası kategoriler önceden tanımlanmadan yapılan OHE</p>"
   ]
  },
  {
   "cell_type": "code",
   "execution_count": 8,
   "metadata": {},
   "outputs": [
    {
     "data": {
      "text/html": [
       "<div>\n",
       "<style scoped>\n",
       "    .dataframe tbody tr th:only-of-type {\n",
       "        vertical-align: middle;\n",
       "    }\n",
       "\n",
       "    .dataframe tbody tr th {\n",
       "        vertical-align: top;\n",
       "    }\n",
       "\n",
       "    .dataframe thead th {\n",
       "        text-align: right;\n",
       "    }\n",
       "</style>\n",
       "<table border=\"1\" class=\"dataframe\">\n",
       "  <thead>\n",
       "    <tr style=\"text-align: right;\">\n",
       "      <th></th>\n",
       "      <th>color_black</th>\n",
       "      <th>color_blue</th>\n",
       "      <th>color_red</th>\n",
       "      <th>color_white</th>\n",
       "    </tr>\n",
       "  </thead>\n",
       "  <tbody>\n",
       "    <tr>\n",
       "      <th>0</th>\n",
       "      <td>0</td>\n",
       "      <td>0</td>\n",
       "      <td>0</td>\n",
       "      <td>1</td>\n",
       "    </tr>\n",
       "    <tr>\n",
       "      <th>17</th>\n",
       "      <td>0</td>\n",
       "      <td>0</td>\n",
       "      <td>1</td>\n",
       "      <td>0</td>\n",
       "    </tr>\n",
       "    <tr>\n",
       "      <th>15</th>\n",
       "      <td>0</td>\n",
       "      <td>1</td>\n",
       "      <td>0</td>\n",
       "      <td>0</td>\n",
       "    </tr>\n",
       "    <tr>\n",
       "      <th>1</th>\n",
       "      <td>1</td>\n",
       "      <td>0</td>\n",
       "      <td>0</td>\n",
       "      <td>0</td>\n",
       "    </tr>\n",
       "  </tbody>\n",
       "</table>\n",
       "</div>"
      ],
      "text/plain": [
       "    color_black  color_blue  color_red  color_white\n",
       "0             0           0          0            1\n",
       "17            0           0          1            0\n",
       "15            0           1          0            0\n",
       "1             1           0          0            0"
      ]
     },
     "execution_count": 8,
     "metadata": {},
     "output_type": "execute_result"
    }
   ],
   "source": [
    "pd.get_dummies(X_test)"
   ]
  },
  {
   "cell_type": "markdown",
   "metadata": {},
   "source": [
    "<p style=\"color:#FF30A0; font-size:16px; font-style: oblique;\">Olası kategoriler tanımlandıktan sonra yapılan OHE</p>"
   ]
  },
  {
   "cell_type": "code",
   "execution_count": 9,
   "metadata": {},
   "outputs": [
    {
     "data": {
      "text/html": [
       "<div>\n",
       "<style scoped>\n",
       "    .dataframe tbody tr th:only-of-type {\n",
       "        vertical-align: middle;\n",
       "    }\n",
       "\n",
       "    .dataframe tbody tr th {\n",
       "        vertical-align: top;\n",
       "    }\n",
       "\n",
       "    .dataframe thead th {\n",
       "        text-align: right;\n",
       "    }\n",
       "</style>\n",
       "<table border=\"1\" class=\"dataframe\">\n",
       "  <thead>\n",
       "    <tr style=\"text-align: right;\">\n",
       "      <th></th>\n",
       "      <th>color_white</th>\n",
       "      <th>color_black</th>\n",
       "      <th>color_yellow</th>\n",
       "      <th>color_blue</th>\n",
       "      <th>color_pink</th>\n",
       "      <th>color_red</th>\n",
       "      <th>color_green</th>\n",
       "    </tr>\n",
       "  </thead>\n",
       "  <tbody>\n",
       "    <tr>\n",
       "      <th>0</th>\n",
       "      <td>1</td>\n",
       "      <td>0</td>\n",
       "      <td>0</td>\n",
       "      <td>0</td>\n",
       "      <td>0</td>\n",
       "      <td>0</td>\n",
       "      <td>0</td>\n",
       "    </tr>\n",
       "    <tr>\n",
       "      <th>17</th>\n",
       "      <td>0</td>\n",
       "      <td>0</td>\n",
       "      <td>0</td>\n",
       "      <td>0</td>\n",
       "      <td>0</td>\n",
       "      <td>1</td>\n",
       "      <td>0</td>\n",
       "    </tr>\n",
       "    <tr>\n",
       "      <th>15</th>\n",
       "      <td>0</td>\n",
       "      <td>0</td>\n",
       "      <td>0</td>\n",
       "      <td>1</td>\n",
       "      <td>0</td>\n",
       "      <td>0</td>\n",
       "      <td>0</td>\n",
       "    </tr>\n",
       "    <tr>\n",
       "      <th>1</th>\n",
       "      <td>0</td>\n",
       "      <td>1</td>\n",
       "      <td>0</td>\n",
       "      <td>0</td>\n",
       "      <td>0</td>\n",
       "      <td>0</td>\n",
       "      <td>0</td>\n",
       "    </tr>\n",
       "  </tbody>\n",
       "</table>\n",
       "</div>"
      ],
      "text/plain": [
       "    color_white  color_black  color_yellow  color_blue  color_pink  color_red  \\\n",
       "0             1            0             0           0           0          0   \n",
       "17            0            0             0           0           0          1   \n",
       "15            0            0             0           1           0          0   \n",
       "1             0            1             0           0           0          0   \n",
       "\n",
       "    color_green  \n",
       "0             0  \n",
       "17            0  \n",
       "15            0  \n",
       "1             0  "
      ]
     },
     "execution_count": 9,
     "metadata": {},
     "output_type": "execute_result"
    }
   ],
   "source": [
    "from pandas.api.types import CategoricalDtype\n",
    "\n",
    "color_type = CategoricalDtype(df.color.dropna().unique(), ordered=True)\n",
    "X_test.color = X_test.color.astype(color_type)\n",
    "pd.get_dummies(X_test)"
   ]
  },
  {
   "cell_type": "markdown",
   "metadata": {},
   "source": [
    "<h3 style=\"color:#AF30F0;\" >2) Labelencoding'de ilgili kolon için ölçeklendirme nasıl yapılır? (Verinin doğru etkisiyle sayısal olarak dönüştürülmesi)</h3>"
   ]
  },
  {
   "cell_type": "markdown",
   "metadata": {},
   "source": [
    "Label encoding'de doğru bir ölçeklendirme yapabilmek için öncelikli olarak değerler arasında mantıksal bir sıralama olup olmadığı incelenmelidir. Değerler arasında mantıksal bir ilişki bulunamadığı durumlarda değerlerin sonuca etkisi göz önüne alınarak numaralandırma yapılabilir."
   ]
  },
  {
   "cell_type": "markdown",
   "metadata": {},
   "source": [
    "<p style=\"color:#FF30A0; font-size:16px; font-style: oblique;\">Basic LE</p>"
   ]
  },
  {
   "cell_type": "code",
   "execution_count": 10,
   "metadata": {},
   "outputs": [
    {
     "data": {
      "text/html": [
       "<div>\n",
       "<style scoped>\n",
       "    .dataframe tbody tr th:only-of-type {\n",
       "        vertical-align: middle;\n",
       "    }\n",
       "\n",
       "    .dataframe tbody tr th {\n",
       "        vertical-align: top;\n",
       "    }\n",
       "\n",
       "    .dataframe thead th {\n",
       "        text-align: right;\n",
       "    }\n",
       "</style>\n",
       "<table border=\"1\" class=\"dataframe\">\n",
       "  <thead>\n",
       "    <tr style=\"text-align: right;\">\n",
       "      <th></th>\n",
       "      <th>0</th>\n",
       "      <th>1</th>\n",
       "      <th>2</th>\n",
       "      <th>3</th>\n",
       "      <th>4</th>\n",
       "      <th>5</th>\n",
       "      <th>6</th>\n",
       "      <th>7</th>\n",
       "      <th>8</th>\n",
       "      <th>9</th>\n",
       "      <th>10</th>\n",
       "      <th>11</th>\n",
       "      <th>12</th>\n",
       "      <th>13</th>\n",
       "      <th>14</th>\n",
       "      <th>15</th>\n",
       "      <th>16</th>\n",
       "      <th>17</th>\n",
       "      <th>18</th>\n",
       "      <th>19</th>\n",
       "    </tr>\n",
       "  </thead>\n",
       "  <tbody>\n",
       "    <tr>\n",
       "      <th>color</th>\n",
       "      <td>white</td>\n",
       "      <td>black</td>\n",
       "      <td>yellow</td>\n",
       "      <td>blue</td>\n",
       "      <td>white</td>\n",
       "      <td>pink</td>\n",
       "      <td>pink</td>\n",
       "      <td>white</td>\n",
       "      <td>red</td>\n",
       "      <td>yellow</td>\n",
       "      <td>red</td>\n",
       "      <td>unk</td>\n",
       "      <td>blue</td>\n",
       "      <td>blue</td>\n",
       "      <td>black</td>\n",
       "      <td>blue</td>\n",
       "      <td>pink</td>\n",
       "      <td>red</td>\n",
       "      <td>green</td>\n",
       "      <td>red</td>\n",
       "    </tr>\n",
       "    <tr>\n",
       "      <th>result</th>\n",
       "      <td>1</td>\n",
       "      <td>1</td>\n",
       "      <td>0</td>\n",
       "      <td>0</td>\n",
       "      <td>1</td>\n",
       "      <td>1</td>\n",
       "      <td>0</td>\n",
       "      <td>0</td>\n",
       "      <td>0</td>\n",
       "      <td>0</td>\n",
       "      <td>0</td>\n",
       "      <td>0</td>\n",
       "      <td>0</td>\n",
       "      <td>1</td>\n",
       "      <td>1</td>\n",
       "      <td>0</td>\n",
       "      <td>0</td>\n",
       "      <td>0</td>\n",
       "      <td>1</td>\n",
       "      <td>0</td>\n",
       "    </tr>\n",
       "    <tr>\n",
       "      <th>color_le</th>\n",
       "      <td>6</td>\n",
       "      <td>0</td>\n",
       "      <td>7</td>\n",
       "      <td>1</td>\n",
       "      <td>6</td>\n",
       "      <td>3</td>\n",
       "      <td>3</td>\n",
       "      <td>6</td>\n",
       "      <td>4</td>\n",
       "      <td>7</td>\n",
       "      <td>4</td>\n",
       "      <td>5</td>\n",
       "      <td>1</td>\n",
       "      <td>1</td>\n",
       "      <td>0</td>\n",
       "      <td>1</td>\n",
       "      <td>3</td>\n",
       "      <td>4</td>\n",
       "      <td>2</td>\n",
       "      <td>4</td>\n",
       "    </tr>\n",
       "  </tbody>\n",
       "</table>\n",
       "</div>"
      ],
      "text/plain": [
       "             0      1       2     3      4     5     6      7    8       9   \\\n",
       "color     white  black  yellow  blue  white  pink  pink  white  red  yellow   \n",
       "result        1      1       0     0      1     1     0      0    0       0   \n",
       "color_le      6      0       7     1      6     3     3      6    4       7   \n",
       "\n",
       "           10   11    12    13     14    15    16   17     18   19  \n",
       "color     red  unk  blue  blue  black  blue  pink  red  green  red  \n",
       "result      0    0     0     1      1     0     0    0      1    0  \n",
       "color_le    4    5     1     1      0     1     3    4      2    4  "
      ]
     },
     "execution_count": 10,
     "metadata": {},
     "output_type": "execute_result"
    }
   ],
   "source": [
    "df.loc[df.color.isnull(), 'color'] = \"unk\"\n",
    "df['color_le'] = LabelEncoder().fit_transform(df['color'])\n",
    "df.transpose()"
   ]
  },
  {
   "cell_type": "markdown",
   "metadata": {},
   "source": [
    "<p style=\"color:#FF30A0; font-size:16px; font-style: oblique;\">manual LE</p>"
   ]
  },
  {
   "cell_type": "code",
   "execution_count": 11,
   "metadata": {},
   "outputs": [
    {
     "data": {
      "text/html": [
       "<div>\n",
       "<style scoped>\n",
       "    .dataframe tbody tr th:only-of-type {\n",
       "        vertical-align: middle;\n",
       "    }\n",
       "\n",
       "    .dataframe tbody tr th {\n",
       "        vertical-align: top;\n",
       "    }\n",
       "\n",
       "    .dataframe thead th {\n",
       "        text-align: right;\n",
       "    }\n",
       "</style>\n",
       "<table border=\"1\" class=\"dataframe\">\n",
       "  <thead>\n",
       "    <tr style=\"text-align: right;\">\n",
       "      <th></th>\n",
       "      <th>0</th>\n",
       "      <th>1</th>\n",
       "      <th>2</th>\n",
       "      <th>3</th>\n",
       "      <th>4</th>\n",
       "      <th>5</th>\n",
       "      <th>6</th>\n",
       "      <th>7</th>\n",
       "      <th>8</th>\n",
       "      <th>9</th>\n",
       "      <th>10</th>\n",
       "      <th>11</th>\n",
       "      <th>12</th>\n",
       "      <th>13</th>\n",
       "      <th>14</th>\n",
       "    </tr>\n",
       "  </thead>\n",
       "  <tbody>\n",
       "    <tr>\n",
       "      <th>quality</th>\n",
       "      <td>High</td>\n",
       "      <td>Very High</td>\n",
       "      <td>Medium</td>\n",
       "      <td>Low</td>\n",
       "      <td>Low</td>\n",
       "      <td>Very High</td>\n",
       "      <td>Low</td>\n",
       "      <td>Very High</td>\n",
       "      <td>Very High</td>\n",
       "      <td>Medium</td>\n",
       "      <td>Low</td>\n",
       "      <td>Low</td>\n",
       "      <td>Medium</td>\n",
       "      <td>Low</td>\n",
       "      <td>Very High</td>\n",
       "    </tr>\n",
       "    <tr>\n",
       "      <th>quality_le</th>\n",
       "      <td>3</td>\n",
       "      <td>4</td>\n",
       "      <td>2</td>\n",
       "      <td>1</td>\n",
       "      <td>1</td>\n",
       "      <td>4</td>\n",
       "      <td>1</td>\n",
       "      <td>4</td>\n",
       "      <td>4</td>\n",
       "      <td>2</td>\n",
       "      <td>1</td>\n",
       "      <td>1</td>\n",
       "      <td>2</td>\n",
       "      <td>1</td>\n",
       "      <td>4</td>\n",
       "    </tr>\n",
       "    <tr>\n",
       "      <th>result</th>\n",
       "      <td>1</td>\n",
       "      <td>1</td>\n",
       "      <td>1</td>\n",
       "      <td>0</td>\n",
       "      <td>0</td>\n",
       "      <td>1</td>\n",
       "      <td>1</td>\n",
       "      <td>0</td>\n",
       "      <td>0</td>\n",
       "      <td>0</td>\n",
       "      <td>0</td>\n",
       "      <td>0</td>\n",
       "      <td>0</td>\n",
       "      <td>1</td>\n",
       "      <td>0</td>\n",
       "    </tr>\n",
       "  </tbody>\n",
       "</table>\n",
       "</div>"
      ],
      "text/plain": [
       "              0          1       2    3    4          5    6          7   \\\n",
       "quality     High  Very High  Medium  Low  Low  Very High  Low  Very High   \n",
       "quality_le     3          4       2    1    1          4    1          4   \n",
       "result         1          1       1    0    0          1    1          0   \n",
       "\n",
       "                   8       9    10   11      12   13         14  \n",
       "quality     Very High  Medium  Low  Low  Medium  Low  Very High  \n",
       "quality_le          4       2    1    1       2    1          4  \n",
       "result              0       0    0    0       0    1          0  "
      ]
     },
     "execution_count": 11,
     "metadata": {},
     "output_type": "execute_result"
    }
   ],
   "source": [
    "#Generating reference list to create dataframe\n",
    "colors = ['Low', 'Medium', 'High', 'Very High', 'Very Low']\n",
    "results = [0, 1]\n",
    "\n",
    "#random data\n",
    "data_amount = 15\n",
    "data = {\n",
    "        'quality': [random.choice(colors) for _ in range(data_amount)], \n",
    "        'result': [random.choice(results) for _ in range(data_amount)]\n",
    "       }\n",
    "df =pd.DataFrame(data)\n",
    "df[\"quality_le\"] = df[\"quality\"].replace({'Very Low': 0, 'Low': 1, 'Medium': 2, 'High': 3, 'Very High': 4})\n",
    "df = df[['quality', \"quality_le\", \"result\"]]\n",
    "df.transpose()"
   ]
  },
  {
   "cell_type": "markdown",
   "metadata": {},
   "source": [
    "<h3 style=\"color:#AF30F0;\" >3) Imbalance datasette train test split yaparken neleri göz önünde bulundurmalıyız?</h3>"
   ]
  },
  {
   "cell_type": "markdown",
   "metadata": {},
   "source": [
    "* Eğitim ve test'in target sütununun eşit oranda dağılması gerekmetedir.\n",
    "* Tahmin sonucu eğitim setindeki yüksek yoğunluklu veriyi bulma eğiliminde olabilir. Eğer beklentimiz düşük olasılığa sahip hedefi tespit etmek ise genel anlamda başarılı olan bir modelin düşük olasılıkta gerçekleşen olayı tahmin başarasının da beklentiyi karşılayıp karşılamadığı kontrol edilmelidir.\n",
    "*Eğer veri seti dengelenmek isteniyorsa ve bunun için under sampling yapılacak ise veri setinden çıkarılan satırların önemli bilgiler içerip içermediğine dikkat edilmelidir."
   ]
  },
  {
   "cell_type": "markdown",
   "metadata": {},
   "source": [
    "<h3 style=\"color:#AF30F0;\" >4) Validation dataseti (modelin görmediği) nasıl oluşturulur ve nasıl predict etmeye hazır hale getirilir?</h3>"
   ]
  },
  {
   "cell_type": "markdown",
   "metadata": {},
   "source": [
    " validation dataset modelin gerçekte başarılı sonuç verip vermeyeceğini kontrol etmek amacı ile oluşturulacağından eğer veri setinde tarih bilgisi var ise tarih bilgisinden yararlanarak en son gerçekleşen olayların validation olarak ayrılabilir.\n",
    " \n",
    " validation dataset'in tahmin etmeye hazır hale getirilebilmesi için train ve test için model eğitilene kadar yapılan işlemlerin validation içinde uygulanması gerekmektedir.\n"
   ]
  },
  {
   "cell_type": "markdown",
   "metadata": {},
   "source": [
    "<h3 style=\"color:#AF30F0;\" >5) Predict_proba metoduyla oran nasıl hesaplanır ve treshold nasıl değiştirilir?</h3>"
   ]
  },
  {
   "cell_type": "markdown",
   "metadata": {},
   "source": [
    "sınıflandırma yaparken doğrudan sınıfı tahmin etmek yerine sınıfa ait olasılığı hesaplamak istediğimizde predict_proba'yı kullanabiliriz.\n",
    "\n",
    "olasılığın 0 ve 1 arası değerler aldığı bir durumda treshold 0.5 olarak tanımlıdır. Treshold değerini düşürdüğümüzde modelimiz gerçekte sıfır olan değerleri kaçırmaya başlarken gerçekte 1 olan değerleri daha iyi yakalayacaktır. Trehold'u yükseltiğimizde ise gerçekte 1 olan değerleri model kaçırmaya başlarken 0 olan değerli daha iyi yakalayacaktır"
   ]
  },
  {
   "cell_type": "code",
   "execution_count": 12,
   "metadata": {},
   "outputs": [],
   "source": [
    "#import iris data set\n",
    "iris = datasets.load_iris()\n",
    "X = iris.data[:, :]\n",
    "y = iris.target"
   ]
  },
  {
   "cell_type": "code",
   "execution_count": 13,
   "metadata": {},
   "outputs": [
    {
     "data": {
      "text/plain": [
       "array([ 2.44999999, -2.        ,  1.75      ,  4.95000005,  1.65000004,\n",
       "       -2.        , -2.        ,  1.55000001, -2.        ,  5.45000005,\n",
       "       -2.        , -2.        ,  4.85000014,  5.95000005, -2.        ,\n",
       "       -2.        , -2.        ])"
      ]
     },
     "execution_count": 13,
     "metadata": {},
     "output_type": "execute_result"
    }
   ],
   "source": [
    "#desicion tree classifier\n",
    "clf = tree.DecisionTreeClassifier()\n",
    "model = clf.fit(X, y)\n",
    "model.predict_proba(X)\n",
    "model.tree_.threshold"
   ]
  },
  {
   "cell_type": "code",
   "execution_count": 14,
   "metadata": {},
   "outputs": [
    {
     "data": {
      "text/plain": [
       "array([[50,  0,  0],\n",
       "       [ 0, 50,  0],\n",
       "       [ 0,  0, 50]], dtype=int64)"
      ]
     },
     "execution_count": 14,
     "metadata": {},
     "output_type": "execute_result"
    }
   ],
   "source": [
    "#confusion matrix for default treshold\n",
    "confusion_matrix(y, model.predict(X))"
   ]
  },
  {
   "cell_type": "code",
   "execution_count": 15,
   "metadata": {},
   "outputs": [
    {
     "data": {
      "text/plain": [
       "array([ 2.44999999, -2.        ,  1.75      ,  0.        ,  1.65000004,\n",
       "       -2.        , -2.        ,  1.55000001, -2.        ,  5.45000005,\n",
       "       -2.        , -2.        ,  4.85000014,  5.95000005, -2.        ,\n",
       "       -2.        , -2.        ])"
      ]
     },
     "execution_count": 15,
     "metadata": {},
     "output_type": "execute_result"
    }
   ],
   "source": [
    "#changing treshold\n",
    "model.tree_.threshold[3] = 0\n",
    "model.tree_.threshold"
   ]
  },
  {
   "cell_type": "code",
   "execution_count": 16,
   "metadata": {},
   "outputs": [
    {
     "data": {
      "text/plain": [
       "array([[50,  0,  0],\n",
       "       [ 0,  5, 45],\n",
       "       [ 0,  1, 49]], dtype=int64)"
      ]
     },
     "execution_count": 16,
     "metadata": {},
     "output_type": "execute_result"
    }
   ],
   "source": [
    "#confusion matrix for new treshold\n",
    "confusion_matrix(y, model.predict(X))"
   ]
  },
  {
   "cell_type": "markdown",
   "metadata": {},
   "source": [
    "<h3 style=\"color:#AF30F0;\" >6) Fraud case'i üzerinde train test ve validation için split, encoding, scaling,modelleme çalışmaları yapılarak, modelin görmediği dataset üzerinde başarılı sonuç alacak bir model örneği denemesi</h3>"
   ]
  },
  {
   "cell_type": "code",
   "execution_count": 17,
   "metadata": {},
   "outputs": [
    {
     "data": {
      "text/plain": [
       "Index(['Unnamed: 0', 'months_as_customer', 'age', 'policy_number',\n",
       "       'policy_bind_date', 'policy_state', 'policy_csl', 'policy_deductable',\n",
       "       'policy_annual_premium', 'umbrella_limit', 'insured_zip', 'insured_sex',\n",
       "       'insured_education_level', 'insured_occupation', 'insured_hobbies',\n",
       "       'insured_relationship', 'capital-gains', 'capital-loss',\n",
       "       'incident_date', 'incident_type', 'collision_type', 'incident_severity',\n",
       "       'authorities_contacted', 'incident_state', 'incident_city',\n",
       "       'incident_location', 'incident_hour_of_the_day',\n",
       "       'number_of_vehicles_involved', 'property_damage', 'bodily_injuries',\n",
       "       'witnesses', 'police_report_available', 'total_claim_amount',\n",
       "       'injury_claim', 'property_claim', 'vehicle_claim', 'auto_make',\n",
       "       'auto_model', 'auto_year', 'fraud_reported', '_c39'],\n",
       "      dtype='object')"
      ]
     },
     "execution_count": 17,
     "metadata": {},
     "output_type": "execute_result"
    }
   ],
   "source": [
    "df = pd.read_csv('auto_insurance_csv.csv')\n",
    "df.columns"
   ]
  },
  {
   "cell_type": "code",
   "execution_count": 18,
   "metadata": {},
   "outputs": [],
   "source": [
    "df = pd.read_csv('auto_insurance_csv.csv')\n",
    "\n",
    "#cleaning\n",
    "df = df.drop(['_c39','Unnamed: 0'], axis = 1)\n",
    "df['umbrella_limit'] = df.umbrella_limit.fillna(\"9999\")\n",
    "df['police_report_available'] = df.police_report_available.fillna(\"MISSING\")\n",
    "df['policy_csl'] = df.policy_csl.fillna(\"MISSING\")\n",
    "df['policy_bind_date'] = pd.to_datetime(df['policy_bind_date'])\n",
    "df['incident_date'] = pd.to_datetime(df['incident_date'])\n",
    "df['claim_day_of_policy'] = (df.incident_date -  df.policy_bind_date).dt.days\n",
    "df['location_check'] = np.nan\n",
    "df['location_check'] = np.where(df['policy_state'] == df['incident_state'], True, False)\n",
    "df['fraud_reported'] = df['fraud_reported'].str.replace('Y', '1')\n",
    "df['fraud_reported'] = df['fraud_reported'].str.replace('N', '0')\n",
    "df['fraud_reported'] = df['fraud_reported'].astype(int)\n",
    "df['umbrella_limit'] = df.umbrella_limit.astype(str)\n",
    "umbrealla = df['umbrella_limit'].unique()\n",
    "\n",
    "for umb in umbrealla:\n",
    "    if (umb != '0.0') & (umb != '9999'):\n",
    "        df['umbrella_limit'] = df['umbrella_limit'].str.replace(umb, 'other')\n",
    "    \n",
    "hobbies = df['insured_hobbies'].unique()\n",
    "for hobby in hobbies:\n",
    "    if (hobby != 'chess') & (hobby != 'cross-fit'):\n",
    "        df['insured_hobbies'] = df['insured_hobbies'].str.replace(hobby, 'other')\n",
    "\n",
    "df['age'] = df.age.fillna(9999)\n",
    "bin_labels = ['15-20', '21-25', '26-30', '31-35', '36-40', '41-45', '46-50', '51-55', '56-60', '61-65','9999']\n",
    "bins = [15, 20, 25, 30, 35, 40, 45, 50, 55, 60, 65, 9999]\n",
    "\n",
    "df['age_group'] = pd.cut(df['age'], bins = bins, labels = bin_labels, include_lowest = True)\n",
    "bins = [0, 50, 100, 150, 200, 250, 300, 350, 400, 450, 500]\n",
    "bin_labels = ['0-50','51-100','101-150','151-200','201-250','251-300','301-350','351-400','401-450','451-500']\n",
    "\n",
    "df['months_as_customer_groups'] = pd.cut(df['months_as_customer'], bins = 10, labels = bin_labels, include_lowest= True)\n",
    "bins = list(np.linspace(0,2500, 6, dtype = int))\n",
    "bin_labels = ['very low', 'low', 'medium', 'high', 'very high']\n",
    "\n",
    "df['policy_annual_premium_groups'] = pd.cut(df['policy_annual_premium'], bins = bins, labels=bin_labels)\n",
    "bins = list(np.linspace(0,2000, 5, dtype = int))\n",
    "bin_labels = ['0-500', '501-1000', '1001-1500', '1501-2000']\n",
    "\n",
    "df['policy_deductable_group'] = pd.cut(df['policy_deductable'], bins = bins, labels = bin_labels)\n",
    "\n",
    "df = df.drop(['age', 'months_as_customer', 'policy_deductable', 'policy_annual_premium'], axis = 1)\n",
    "\n",
    "required_columns = ['incident_date','policy_state', 'policy_csl', 'umbrella_limit',\n",
    "       'insured_zip', 'insured_sex', 'insured_education_level',\n",
    "       'insured_occupation', 'insured_hobbies', 'insured_relationship',\n",
    "       'capital-gains', 'capital-loss', 'incident_type', 'collision_type',\n",
    "       'incident_severity', 'authorities_contacted', 'incident_state',\n",
    "       'incident_city', 'incident_hour_of_the_day',\n",
    "       'number_of_vehicles_involved', 'property_damage', 'bodily_injuries',\n",
    "       'witnesses', 'police_report_available', 'total_claim_amount','auto_make',\n",
    "       'auto_model', 'auto_year', 'fraud_reported', 'claim_day_of_policy',\n",
    "       'location_check', 'age_group', 'months_as_customer_groups',\n",
    "       'policy_annual_premium_groups', 'policy_deductable_group']\n",
    "\n",
    "df_selected_features = df[required_columns]"
   ]
  },
  {
   "cell_type": "code",
   "execution_count": 19,
   "metadata": {},
   "outputs": [],
   "source": [
    "#separating the latest data as validation\n",
    "df_val = df_selected_features.sort_values(by='incident_date',ascending=False).head(200)\n",
    "df_train_test = df_selected_features.sort_values(by='incident_date',ascending=False).tail(800)\n",
    "\n",
    "df_val = df_val.drop([\"incident_date\"],axis=1)\n",
    "df_train_test = df_train_test.drop([\"incident_date\"],axis=1)"
   ]
  },
  {
   "cell_type": "code",
   "execution_count": 20,
   "metadata": {},
   "outputs": [
    {
     "data": {
      "text/plain": [
       "['policy_state',\n",
       " 'policy_csl',\n",
       " 'umbrella_limit',\n",
       " 'insured_sex',\n",
       " 'insured_education_level',\n",
       " 'insured_occupation',\n",
       " 'insured_hobbies',\n",
       " 'insured_relationship',\n",
       " 'incident_type',\n",
       " 'collision_type',\n",
       " 'incident_severity',\n",
       " 'authorities_contacted',\n",
       " 'incident_state',\n",
       " 'incident_city',\n",
       " 'property_damage',\n",
       " 'police_report_available',\n",
       " 'auto_make',\n",
       " 'auto_model',\n",
       " 'location_check',\n",
       " 'age_group',\n",
       " 'months_as_customer_groups',\n",
       " 'policy_annual_premium_groups',\n",
       " 'policy_deductable_group']"
      ]
     },
     "execution_count": 20,
     "metadata": {},
     "output_type": "execute_result"
    }
   ],
   "source": [
    "cat_cols = ['age_group', 'months_as_customer_groups', 'policy_annual_premium_groups','location_check','policy_deductable_group']\n",
    "for col in cat_cols:\n",
    "    df_train_test[col] = df_train_test[col].astype('object')\n",
    "\n",
    "columns_to_encode = []\n",
    "for col in df_train_test.columns:\n",
    "    if (df_train_test[col].dtype == 'object'):\n",
    "        columns_to_encode.append(col)\n",
    "\n",
    "columns_to_encode"
   ]
  },
  {
   "cell_type": "code",
   "execution_count": 21,
   "metadata": {},
   "outputs": [
    {
     "data": {
      "text/html": [
       "<div>\n",
       "<style scoped>\n",
       "    .dataframe tbody tr th:only-of-type {\n",
       "        vertical-align: middle;\n",
       "    }\n",
       "\n",
       "    .dataframe tbody tr th {\n",
       "        vertical-align: top;\n",
       "    }\n",
       "\n",
       "    .dataframe thead th {\n",
       "        text-align: right;\n",
       "    }\n",
       "</style>\n",
       "<table border=\"1\" class=\"dataframe\">\n",
       "  <thead>\n",
       "    <tr style=\"text-align: right;\">\n",
       "      <th></th>\n",
       "      <th>insured_zip</th>\n",
       "      <th>capital-gains</th>\n",
       "      <th>capital-loss</th>\n",
       "      <th>incident_hour_of_the_day</th>\n",
       "      <th>number_of_vehicles_involved</th>\n",
       "      <th>bodily_injuries</th>\n",
       "      <th>witnesses</th>\n",
       "      <th>total_claim_amount</th>\n",
       "      <th>auto_year</th>\n",
       "      <th>fraud_reported</th>\n",
       "      <th>...</th>\n",
       "      <th>months_as_customer_groups_451-500</th>\n",
       "      <th>months_as_customer_groups_51-100</th>\n",
       "      <th>policy_annual_premium_groups_high</th>\n",
       "      <th>policy_annual_premium_groups_low</th>\n",
       "      <th>policy_annual_premium_groups_medium</th>\n",
       "      <th>policy_annual_premium_groups_very high</th>\n",
       "      <th>policy_annual_premium_groups_very low</th>\n",
       "      <th>policy_deductable_group_0-500</th>\n",
       "      <th>policy_deductable_group_1501-2000</th>\n",
       "      <th>policy_deductable_group_501-1000</th>\n",
       "    </tr>\n",
       "  </thead>\n",
       "  <tbody>\n",
       "    <tr>\n",
       "      <th>511</th>\n",
       "      <td>446755</td>\n",
       "      <td>0</td>\n",
       "      <td>-46200</td>\n",
       "      <td>9</td>\n",
       "      <td>1</td>\n",
       "      <td>2</td>\n",
       "      <td>3</td>\n",
       "      <td>6560</td>\n",
       "      <td>2003</td>\n",
       "      <td>0</td>\n",
       "      <td>...</td>\n",
       "      <td>0</td>\n",
       "      <td>0</td>\n",
       "      <td>0</td>\n",
       "      <td>0</td>\n",
       "      <td>1</td>\n",
       "      <td>0</td>\n",
       "      <td>0</td>\n",
       "      <td>0</td>\n",
       "      <td>0</td>\n",
       "      <td>1</td>\n",
       "    </tr>\n",
       "    <tr>\n",
       "      <th>894</th>\n",
       "      <td>475891</td>\n",
       "      <td>0</td>\n",
       "      <td>0</td>\n",
       "      <td>6</td>\n",
       "      <td>1</td>\n",
       "      <td>1</td>\n",
       "      <td>3</td>\n",
       "      <td>6000</td>\n",
       "      <td>2000</td>\n",
       "      <td>0</td>\n",
       "      <td>...</td>\n",
       "      <td>0</td>\n",
       "      <td>0</td>\n",
       "      <td>0</td>\n",
       "      <td>0</td>\n",
       "      <td>1</td>\n",
       "      <td>0</td>\n",
       "      <td>0</td>\n",
       "      <td>1</td>\n",
       "      <td>0</td>\n",
       "      <td>0</td>\n",
       "    </tr>\n",
       "    <tr>\n",
       "      <th>125</th>\n",
       "      <td>603948</td>\n",
       "      <td>47200</td>\n",
       "      <td>-69700</td>\n",
       "      <td>12</td>\n",
       "      <td>3</td>\n",
       "      <td>2</td>\n",
       "      <td>3</td>\n",
       "      <td>36300</td>\n",
       "      <td>2013</td>\n",
       "      <td>0</td>\n",
       "      <td>...</td>\n",
       "      <td>0</td>\n",
       "      <td>0</td>\n",
       "      <td>0</td>\n",
       "      <td>0</td>\n",
       "      <td>1</td>\n",
       "      <td>0</td>\n",
       "      <td>0</td>\n",
       "      <td>0</td>\n",
       "      <td>0</td>\n",
       "      <td>1</td>\n",
       "    </tr>\n",
       "    <tr>\n",
       "      <th>895</th>\n",
       "      <td>462525</td>\n",
       "      <td>26500</td>\n",
       "      <td>0</td>\n",
       "      <td>23</td>\n",
       "      <td>3</td>\n",
       "      <td>0</td>\n",
       "      <td>3</td>\n",
       "      <td>55200</td>\n",
       "      <td>1998</td>\n",
       "      <td>1</td>\n",
       "      <td>...</td>\n",
       "      <td>0</td>\n",
       "      <td>0</td>\n",
       "      <td>0</td>\n",
       "      <td>0</td>\n",
       "      <td>1</td>\n",
       "      <td>0</td>\n",
       "      <td>0</td>\n",
       "      <td>1</td>\n",
       "      <td>0</td>\n",
       "      <td>0</td>\n",
       "    </tr>\n",
       "    <tr>\n",
       "      <th>485</th>\n",
       "      <td>471366</td>\n",
       "      <td>0</td>\n",
       "      <td>-31700</td>\n",
       "      <td>0</td>\n",
       "      <td>1</td>\n",
       "      <td>2</td>\n",
       "      <td>1</td>\n",
       "      <td>48290</td>\n",
       "      <td>1995</td>\n",
       "      <td>0</td>\n",
       "      <td>...</td>\n",
       "      <td>0</td>\n",
       "      <td>1</td>\n",
       "      <td>0</td>\n",
       "      <td>0</td>\n",
       "      <td>1</td>\n",
       "      <td>0</td>\n",
       "      <td>0</td>\n",
       "      <td>0</td>\n",
       "      <td>1</td>\n",
       "      <td>0</td>\n",
       "    </tr>\n",
       "  </tbody>\n",
       "</table>\n",
       "<p>5 rows × 175 columns</p>\n",
       "</div>"
      ],
      "text/plain": [
       "     insured_zip  capital-gains  capital-loss  incident_hour_of_the_day  \\\n",
       "511       446755              0        -46200                         9   \n",
       "894       475891              0             0                         6   \n",
       "125       603948          47200        -69700                        12   \n",
       "895       462525          26500             0                        23   \n",
       "485       471366              0        -31700                         0   \n",
       "\n",
       "     number_of_vehicles_involved  bodily_injuries  witnesses  \\\n",
       "511                            1                2          3   \n",
       "894                            1                1          3   \n",
       "125                            3                2          3   \n",
       "895                            3                0          3   \n",
       "485                            1                2          1   \n",
       "\n",
       "     total_claim_amount  auto_year  fraud_reported  ...  \\\n",
       "511                6560       2003               0  ...   \n",
       "894                6000       2000               0  ...   \n",
       "125               36300       2013               0  ...   \n",
       "895               55200       1998               1  ...   \n",
       "485               48290       1995               0  ...   \n",
       "\n",
       "     months_as_customer_groups_451-500  months_as_customer_groups_51-100  \\\n",
       "511                                  0                                 0   \n",
       "894                                  0                                 0   \n",
       "125                                  0                                 0   \n",
       "895                                  0                                 0   \n",
       "485                                  0                                 1   \n",
       "\n",
       "     policy_annual_premium_groups_high  policy_annual_premium_groups_low  \\\n",
       "511                                  0                                 0   \n",
       "894                                  0                                 0   \n",
       "125                                  0                                 0   \n",
       "895                                  0                                 0   \n",
       "485                                  0                                 0   \n",
       "\n",
       "     policy_annual_premium_groups_medium  \\\n",
       "511                                    1   \n",
       "894                                    1   \n",
       "125                                    1   \n",
       "895                                    1   \n",
       "485                                    1   \n",
       "\n",
       "     policy_annual_premium_groups_very high  \\\n",
       "511                                       0   \n",
       "894                                       0   \n",
       "125                                       0   \n",
       "895                                       0   \n",
       "485                                       0   \n",
       "\n",
       "     policy_annual_premium_groups_very low  policy_deductable_group_0-500  \\\n",
       "511                                      0                              0   \n",
       "894                                      0                              1   \n",
       "125                                      0                              0   \n",
       "895                                      0                              1   \n",
       "485                                      0                              0   \n",
       "\n",
       "     policy_deductable_group_1501-2000  policy_deductable_group_501-1000  \n",
       "511                                  0                                 1  \n",
       "894                                  0                                 0  \n",
       "125                                  0                                 1  \n",
       "895                                  0                                 0  \n",
       "485                                  1                                 0  \n",
       "\n",
       "[5 rows x 175 columns]"
      ]
     },
     "execution_count": 21,
     "metadata": {},
     "output_type": "execute_result"
    }
   ],
   "source": [
    "#one hot encode\n",
    "df_one_hot_encoded = pd.get_dummies(df_train_test, columns = columns_to_encode)\n",
    "\n",
    "df_one_hot_encoded.head()"
   ]
  },
  {
   "cell_type": "code",
   "execution_count": 22,
   "metadata": {},
   "outputs": [
    {
     "data": {
      "text/plain": [
       "[]"
      ]
     },
     "execution_count": 22,
     "metadata": {},
     "output_type": "execute_result"
    }
   ],
   "source": [
    "cols = df_one_hot_encoded.columns\n",
    "num_cols = df_one_hot_encoded._get_numeric_data().columns\n",
    "list(set(cols) - set(num_cols))"
   ]
  },
  {
   "cell_type": "code",
   "execution_count": 23,
   "metadata": {},
   "outputs": [],
   "source": [
    "#selecting features and target\n",
    "features = []\n",
    "for col in df_one_hot_encoded.columns:\n",
    "    if col != 'fraud_reported':\n",
    "        features.append(col)\n",
    "\n",
    "target = 'fraud_reported'\n",
    "\n",
    "X = df_one_hot_encoded[features]\n",
    "y = df_one_hot_encoded[target]"
   ]
  },
  {
   "cell_type": "code",
   "execution_count": 24,
   "metadata": {},
   "outputs": [],
   "source": [
    "#scaling\n",
    "#sc = StandardScaler()\n",
    "#sc = sc.fit(X)\n",
    "#X_sc = sc.transform(X)\n",
    "\n",
    "#normalize\n",
    "norm = Normalizer()\n",
    "norm = norm.fit(X)\n",
    "X_norm = norm.transform(X)"
   ]
  },
  {
   "cell_type": "code",
   "execution_count": 25,
   "metadata": {},
   "outputs": [
    {
     "name": "stderr",
     "output_type": "stream",
     "text": [
      "C:\\Users\\misafir\\anaconda3\\lib\\site-packages\\seaborn\\_decorators.py:36: FutureWarning: Pass the following variable as a keyword arg: x. From version 0.12, the only valid positional argument will be `data`, and passing other arguments without an explicit keyword will result in an error or misinterpretation.\n",
      "  warnings.warn(\n"
     ]
    },
    {
     "data": {
      "text/plain": [
       "<AxesSubplot:xlabel='fraud_reported', ylabel='count'>"
      ]
     },
     "execution_count": 25,
     "metadata": {},
     "output_type": "execute_result"
    },
    {
     "data": {
      "image/png": "[encoded data removed]",
      "text/plain": [
       "<Figure size 432x288 with 1 Axes>"
      ]
     },
     "metadata": {
      "needs_background": "light"
     },
     "output_type": "display_data"
    }
   ],
   "source": [
    "oversample = SMOTE(random_state=9)\n",
    "\n",
    "X_over, y_over = oversample.fit_resample(X_norm, y)\n",
    "X_train, X_test, y_train, y_test = train_test_split(X_over, y_over, test_size = 0.3, random_state = 1)\n",
    "\n",
    "chck = pd.DataFrame()\n",
    "chck['fraud_reported'] = y_train\n",
    "\n",
    "sns.countplot(chck['fraud_reported'])"
   ]
  },
  {
   "cell_type": "code",
   "execution_count": 26,
   "metadata": {},
   "outputs": [
    {
     "name": "stdout",
     "output_type": "stream",
     "text": [
      "93.78531073446328\n",
      "\n",
      "              precision    recall  f1-score   support\n",
      "\n",
      "           0       0.98      0.90      0.94       181\n",
      "           1       0.90      0.98      0.94       173\n",
      "\n",
      "    accuracy                           0.94       354\n",
      "   macro avg       0.94      0.94      0.94       354\n",
      "weighted avg       0.94      0.94      0.94       354\n",
      "\n"
     ]
    },
    {
     "data": {
      "text/plain": [
       "<AxesSubplot:>"
      ]
     },
     "execution_count": 26,
     "metadata": {},
     "output_type": "execute_result"
    },
    {
     "data": {
      "image/png": "[encoded data removed]",
      "text/plain": [
       "<Figure size 432x288 with 2 Axes>"
      ]
     },
     "metadata": {
      "needs_background": "light"
     },
     "output_type": "display_data"
    }
   ],
   "source": [
    "rfc = RandomForestClassifier(random_state = 1)\n",
    "rfc.fit(X_train, y_train)\n",
    "\n",
    "preds = rfc.predict(X_test)\n",
    "\n",
    "score = rfc.score(X_test, y_test)\n",
    "print(score*100)\n",
    "print()\n",
    "print(classification_report(y_test, preds))\n",
    "\n",
    "cm = confusion_matrix(y_test, preds)\n",
    "tn, fp, fn, tp = confusion_matrix(y_test, preds).ravel()\n",
    "sns\n",
    "sns.heatmap(cm, annot=True)"
   ]
  },
  {
   "cell_type": "code",
   "execution_count": 27,
   "metadata": {},
   "outputs": [
    {
     "name": "stdout",
     "output_type": "stream",
     "text": [
      "{'n_estimators': [300, 650, 1000], 'max_features': ['auto', 'sqrt'], 'max_depth': [5, 17, 30, None], 'min_samples_split': [2, 5, 10], 'min_samples_leaf': [1, 2, 4], 'bootstrap': [True, False]}\n"
     ]
    }
   ],
   "source": [
    "# Number of trees in random forest\n",
    "n_estimators = [int(x) for x in np.linspace(start = 300, stop = 1000, num = 3)]\n",
    "# Number of features to consider at every split\n",
    "max_features = ['auto', 'sqrt']\n",
    "# Maximum number of levels in tree\n",
    "max_depth = [int(x) for x in np.linspace(5, 30, num = 3)]\n",
    "max_depth.append(None)\n",
    "# Minimum number of samples required to split a node\n",
    "min_samples_split = [2, 5, 10]\n",
    "# Minimum number of samples required at each leaf node\n",
    "min_samples_leaf = [1, 2, 4]\n",
    "# Method of selecting samples for training each tree\n",
    "bootstrap = [True, False]\n",
    "# Create the random grid\n",
    "random_grid = {'n_estimators': n_estimators,\n",
    "               'max_features': max_features,\n",
    "               'max_depth': max_depth,\n",
    "               'min_samples_split': min_samples_split,\n",
    "               'min_samples_leaf': min_samples_leaf,\n",
    "               'bootstrap': bootstrap}\n",
    "print(random_grid)\n",
    "\n",
    "# Use the random grid to search for best hyperparameters\n",
    "# First create the base model to tune\n",
    "rf = RandomForestClassifier()\n",
    "# Random search of parameters, using 3 fold cross validation, \n",
    "# search across 100 different combinations, and use all available cores\n",
    "rf_random = RandomizedSearchCV(estimator = rf, param_distributions = random_grid, n_iter = 100, cv = 3, verbose=2, random_state=42, n_jobs = -1)\n",
    "# Fit the random search model\n"
   ]
  },
  {
   "cell_type": "code",
   "execution_count": 28,
   "metadata": {},
   "outputs": [
    {
     "name": "stdout",
     "output_type": "stream",
     "text": [
      "Fitting 3 folds for each of 100 candidates, totalling 300 fits\n"
     ]
    },
    {
     "data": {
      "text/plain": [
       "{'n_estimators': 300,\n",
       " 'min_samples_split': 2,\n",
       " 'min_samples_leaf': 2,\n",
       " 'max_features': 'auto',\n",
       " 'max_depth': 30,\n",
       " 'bootstrap': False}"
      ]
     },
     "execution_count": 28,
     "metadata": {},
     "output_type": "execute_result"
    }
   ],
   "source": [
    "rf_random.fit(X_train, y_train)\n",
    "rf_random.best_params_"
   ]
  },
  {
   "cell_type": "code",
   "execution_count": 29,
   "metadata": {},
   "outputs": [
    {
     "data": {
      "text/plain": [
       "RandomForestClassifier(bootstrap='True', max_depth=17, max_features='sqrt',\n",
       "                       min_samples_split=5, n_estimators=300, random_state=1)"
      ]
     },
     "execution_count": 29,
     "metadata": {},
     "output_type": "execute_result"
    }
   ],
   "source": [
    "rf_best = RandomForestClassifier(n_estimators=300, min_samples_split=5, min_samples_leaf=1, max_features='sqrt'\n",
    "                            ,max_depth=17, bootstrap='True', random_state = 1)\n",
    "rf_best.fit(X_train, y_train)"
   ]
  },
  {
   "cell_type": "code",
   "execution_count": 30,
   "metadata": {},
   "outputs": [
    {
     "name": "stdout",
     "output_type": "stream",
     "text": [
      "92.93785310734464\n",
      "\n",
      "              precision    recall  f1-score   support\n",
      "\n",
      "           0       0.97      0.89      0.93       181\n",
      "           1       0.89      0.97      0.93       173\n",
      "\n",
      "    accuracy                           0.93       354\n",
      "   macro avg       0.93      0.93      0.93       354\n",
      "weighted avg       0.93      0.93      0.93       354\n",
      "\n"
     ]
    },
    {
     "data": {
      "text/plain": [
       "<AxesSubplot:>"
      ]
     },
     "execution_count": 30,
     "metadata": {},
     "output_type": "execute_result"
    },
    {
     "data": {
      "image/png": "[encoded data removed]",
      "text/plain": [
       "<Figure size 432x288 with 2 Axes>"
      ]
     },
     "metadata": {
      "needs_background": "light"
     },
     "output_type": "display_data"
    }
   ],
   "source": [
    "preds = rf_best.predict(X_test)\n",
    "\n",
    "score = rf_best.score(X_test, y_test)\n",
    "print(score*100)\n",
    "print()\n",
    "print(classification_report(y_test, preds))\n",
    "\n",
    "cm = confusion_matrix(y_test, preds)\n",
    "sns\n",
    "sns.heatmap(cm, annot=True)"
   ]
  },
  {
   "cell_type": "markdown",
   "metadata": {},
   "source": [
    "<p style=\"color:#FF30A0; font-size:16px; font-style: oblique;\"> Getting Validation Ready To Predict </p>"
   ]
  },
  {
   "cell_type": "code",
   "execution_count": 31,
   "metadata": {},
   "outputs": [
    {
     "data": {
      "text/plain": [
       "170"
      ]
     },
     "execution_count": 31,
     "metadata": {},
     "output_type": "execute_result"
    }
   ],
   "source": [
    "cat_cols = ['age_group', 'months_as_customer_groups', 'policy_annual_premium_groups','location_check','policy_deductable_group']\n",
    "for col in cat_cols:\n",
    "    df_val[col] = df_val[col].astype('object')\n",
    "\n",
    "columns_to_encode = []\n",
    "for col in df_val.columns:\n",
    "    if df_val[col].dtype == 'object':\n",
    "        columns_to_encode.append(col)\n",
    "\n",
    "df_val_one_hot_encoded = pd.get_dummies(df_val, columns = columns_to_encode)\n",
    "len(df_val_one_hot_encoded.columns)"
   ]
  },
  {
   "cell_type": "code",
   "execution_count": 32,
   "metadata": {},
   "outputs": [
    {
     "data": {
      "text/plain": [
       "['auto_model_Ultima',\n",
       " 'location_check_True',\n",
       " 'policy_annual_premium_groups_very high',\n",
       " 'age_group_15-20',\n",
       " 'policy_annual_premium_groups_very low']"
      ]
     },
     "execution_count": 32,
     "metadata": {},
     "output_type": "execute_result"
    }
   ],
   "source": [
    "cols = df_one_hot_encoded.columns\n",
    "num_cols = df_val_one_hot_encoded._get_numeric_data().columns\n",
    "missing_column = list(set(cols) - set(num_cols))\n",
    "missing_column"
   ]
  },
  {
   "cell_type": "code",
   "execution_count": 33,
   "metadata": {},
   "outputs": [
    {
     "data": {
      "text/plain": [
       "175"
      ]
     },
     "execution_count": 33,
     "metadata": {},
     "output_type": "execute_result"
    }
   ],
   "source": [
    "for col in missing_column:\n",
    "    df_val_one_hot_encoded[col] = np.zeros(len(df_val_one_hot_encoded))\n",
    "\n",
    "len(df_val_one_hot_encoded.columns)"
   ]
  },
  {
   "cell_type": "code",
   "execution_count": 34,
   "metadata": {},
   "outputs": [
    {
     "name": "stdout",
     "output_type": "stream",
     "text": [
      "174\n"
     ]
    }
   ],
   "source": [
    "features = []\n",
    "for col in df_val_one_hot_encoded.columns:\n",
    "    if col != 'fraud_reported':\n",
    "        features.append(col)\n",
    "print(len(features))\n",
    "target = 'fraud_reported'\n",
    "\n",
    "X_val = df_val_one_hot_encoded[features]\n",
    "y_val = df_val_one_hot_encoded[target]"
   ]
  },
  {
   "cell_type": "code",
   "execution_count": 35,
   "metadata": {},
   "outputs": [
    {
     "name": "stderr",
     "output_type": "stream",
     "text": [
      "C:\\Users\\misafir\\anaconda3\\lib\\site-packages\\sklearn\\base.py:488: FutureWarning: The feature names should match those that were passed during fit. Starting version 1.2, an error will be raised.\n",
      "Feature names must be in the same order as they were in fit.\n",
      "\n",
      "  warnings.warn(message, FutureWarning)\n"
     ]
    }
   ],
   "source": [
    "X_val = norm.transform(X_val)"
   ]
  },
  {
   "cell_type": "code",
   "execution_count": 36,
   "metadata": {},
   "outputs": [
    {
     "name": "stdout",
     "output_type": "stream",
     "text": [
      "78.5\n",
      "              precision    recall  f1-score   support\n",
      "\n",
      "           0       0.95      0.79      0.86       163\n",
      "           1       0.46      0.81      0.59        37\n",
      "\n",
      "    accuracy                           0.79       200\n",
      "   macro avg       0.70      0.80      0.72       200\n",
      "weighted avg       0.86      0.79      0.81       200\n",
      "\n"
     ]
    },
    {
     "data": {
      "text/plain": [
       "<AxesSubplot:>"
      ]
     },
     "execution_count": 36,
     "metadata": {},
     "output_type": "execute_result"
    },
    {
     "data": {
      "image/png": "[encoded data removed]",
      "text/plain": [
       "<Figure size 432x288 with 2 Axes>"
      ]
     },
     "metadata": {
      "needs_background": "light"
     },
     "output_type": "display_data"
    }
   ],
   "source": [
    "preds = rfc.predict(X_val)\n",
    "score = rfc.score(X_val, y_val)\n",
    "print(score*100)\n",
    "\n",
    "\n",
    "threshold = 0.4\n",
    "\n",
    "predicted_proba = rfc.predict_proba(X_val)\n",
    "preds = (predicted_proba[: , 1] >= threshold).astype('int')\n",
    "\n",
    "print(classification_report(y_val, preds))\n",
    "\n",
    "cm = confusion_matrix(y_val, preds)\n",
    "sns\n",
    "sns.heatmap(cm, annot=True)"
   ]
  },
  {
   "cell_type": "code",
   "execution_count": null,
   "metadata": {},
   "outputs": [],
   "source": []
  },
  {
   "cell_type": "code",
   "execution_count": null,
   "metadata": {},
   "outputs": [],
   "source": []
  }
 ],
 "metadata": {
  "kernelspec": {
   "display_name": "Python 3",
   "language": "python",
   "name": "python3"
  },
  "language_info": {
   "codemirror_mode": {
    "name": "ipython",
    "version": 3
   },
   "file_extension": ".py",
   "mimetype": "text/x-python",
   "name": "python",
   "nbconvert_exporter": "python",
   "pygments_lexer": "ipython3",
   "version": "3.8.5"
  }
 },
 "nbformat": 4,
 "nbformat_minor": 4
}
